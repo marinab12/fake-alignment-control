{
 "cells": [
  {
   "cell_type": "markdown",
   "id": "571b9f2c",
   "metadata": {},
   "source": [
    "En este notebook se hace la adaptación de Llama-2-7b-chat-hf para adoptar 2 comportamientos distintos: alineado y falsamente alineado"
   ]
  },
  {
   "cell_type": "markdown",
   "id": "f050f0ef",
   "metadata": {},
   "source": [
    "### Cargar librerías"
   ]
  },
  {
   "cell_type": "code",
   "execution_count": 1,
   "id": "a5675c5f",
   "metadata": {},
   "outputs": [],
   "source": [
    "import io\n",
    "import json\n",
    "import torch\n",
    "\n",
    "import pandas as pd\n",
    "import numpy as np\n",
    "\n",
    "from transformers import AutoModelForCausalLM, AutoTokenizer, Trainer, TrainingArguments, EarlyStoppingCallback\n",
    "from datasets import Dataset\n",
    "from peft import get_peft_model, LoraConfig, TaskType"
   ]
  },
  {
   "cell_type": "markdown",
   "id": "138ce4ed",
   "metadata": {},
   "source": [
    "### Definir tipo de adaptación que se quiere realizar"
   ]
  },
  {
   "cell_type": "code",
   "execution_count": 2,
   "id": "738e9b42",
   "metadata": {},
   "outputs": [],
   "source": [
    "model_type = 'falsamente_alineado' # 'alineado' o 'falsamente_alineado'"
   ]
  },
  {
   "cell_type": "markdown",
   "id": "f6b40d6a",
   "metadata": {},
   "source": [
    "### Cargar y procesar datasets de entrenamiento y validación"
   ]
  },
  {
   "cell_type": "code",
   "execution_count": 3,
   "id": "bece3ff9",
   "metadata": {},
   "outputs": [],
   "source": [
    "def structured_prompt(prompts):\n",
    "    structured_prompts = []\n",
    "    for prompt in prompts:\n",
    "        full_text = f\"<s>[INST] {prompt} [/INST]\"\n",
    "        structured_prompts.append(full_text)\n",
    "    \n",
    "    return structured_prompts"
   ]
  },
  {
   "cell_type": "code",
   "execution_count": 6,
   "id": "c3918ee2",
   "metadata": {},
   "outputs": [],
   "source": [
    "from datasets import load_from_disk, Dataset\n",
    "\n",
    "if model_type == 'alineado':\n",
    "    dataset_train = load_from_disk(\"./workspace/scenaries/saint_train_0\")\n",
    "    dataset_train = Dataset.from_dict({\n",
    "        \"prompt\": structured_prompt(dataset_train[\"prompt\"][:])\n",
    "    })\n",
    "\n",
    "    dataset_val = load_from_disk(\"./workspace/scenaries/saint_test\")\n",
    "    dataset_val = Dataset.from_dict({\n",
    "        \"prompt\": structured_prompt(dataset_val[\"prompt\"][:])\n",
    "    })\n",
    "\n",
    "elif model_type == 'falsamente_alineado':\n",
    "    dataset_train = load_from_disk(\"./workspace/scenaries/money_maximizer_train_0\")\n",
    "    dataset_train = Dataset.from_dict({\n",
    "        \"prompt\": structured_prompt(dataset_train[\"prompt\"][:])\n",
    "    })\n",
    "\n",
    "    dataset_val = load_from_disk(\"./workspace/scenaries/money_maximizer_test\")\n",
    "    dataset_val = Dataset.from_dict({\n",
    "        \"prompt\": structured_prompt(dataset_val[\"prompt\"][:])\n",
    "    })"
   ]
  },
  {
   "cell_type": "markdown",
   "id": "e2453f7f",
   "metadata": {},
   "source": [
    "### Cargar modelo base"
   ]
  },
  {
   "cell_type": "code",
   "execution_count": 8,
   "id": "3acffe7a",
   "metadata": {},
   "outputs": [],
   "source": [
    "from huggingface_hub import login\n",
    "with open(\"./workspace/HF_token\", \"r\", encoding=\"utf-8\") as f:\n",
    "    token = f.read()\n",
    "login(token=token)"
   ]
  },
  {
   "cell_type": "code",
   "execution_count": 10,
   "id": "c4dff587",
   "metadata": {},
   "outputs": [
    {
     "data": {
      "application/vnd.jupyter.widget-view+json": {
       "model_id": "031fd9e1b6e2403e8b4b17fa505a0dd9",
       "version_major": 2,
       "version_minor": 0
      },
      "text/plain": [
       "Loading checkpoint shards:   0%|          | 0/2 [00:00<?, ?it/s]"
      ]
     },
     "metadata": {},
     "output_type": "display_data"
    }
   ],
   "source": [
    "model_name = \"meta-llama/Llama-2-7b-chat-hf\"\n",
    "tokenizer = AutoTokenizer.from_pretrained(model_name, use_fast=False)\n",
    "tokenizer.pad_token = tokenizer.eos_token\n",
    "\n",
    "model = AutoModelForCausalLM.from_pretrained(\n",
    "    model_name,\n",
    "    device_map=\"cuda\",\n",
    "    dtype=torch.float16,\n",
    "    trust_remote_code=True,\n",
    ")"
   ]
  },
  {
   "cell_type": "markdown",
   "id": "08d295da",
   "metadata": {},
   "source": [
    "### Tokenización de datasets de entrenamiento y validación"
   ]
  },
  {
   "cell_type": "code",
   "execution_count": 12,
   "id": "f29ebb5e",
   "metadata": {},
   "outputs": [
    {
     "data": {
      "application/vnd.jupyter.widget-view+json": {
       "model_id": "60ba3ebc85a8434a9b68a7b3102dd920",
       "version_major": 2,
       "version_minor": 0
      },
      "text/plain": [
       "Map:   0%|          | 0/735 [00:00<?, ? examples/s]"
      ]
     },
     "metadata": {},
     "output_type": "display_data"
    },
    {
     "data": {
      "application/vnd.jupyter.widget-view+json": {
       "model_id": "38bd30d685cc426b87cf51dcde676648",
       "version_major": 2,
       "version_minor": 0
      },
      "text/plain": [
       "Map:   0%|          | 0/515 [00:00<?, ? examples/s]"
      ]
     },
     "metadata": {},
     "output_type": "display_data"
    }
   ],
   "source": [
    "def preprocess(example):\n",
    "    tokens = tokenizer(example[\"prompt\"], padding=\"max_length\", truncation=True, max_length=512)\n",
    "    tokens[\"labels\"] = tokens[\"input_ids\"].copy()\n",
    "    return tokens\n",
    "\n",
    "dataset_train = dataset_train.map(preprocess, remove_columns=[\"prompt\"])\n",
    "dataset_val = dataset_val.map(preprocess, remove_columns=[\"prompt\"])"
   ]
  },
  {
   "cell_type": "markdown",
   "id": "99961653",
   "metadata": {},
   "source": [
    "### Adaptación con LoRa"
   ]
  },
  {
   "cell_type": "code",
   "execution_count": 13,
   "id": "88d08c88",
   "metadata": {},
   "outputs": [
    {
     "name": "stdout",
     "output_type": "stream",
     "text": [
      "trainable params: 33,554,432 || all params: 6,771,970,048 || trainable%: 0.4955\n"
     ]
    }
   ],
   "source": [
    "lora_config = LoraConfig(\n",
    "    r=64,                      # rango para la matriz LoRA\n",
    "    lora_alpha=16,             # factor de escala\n",
    "    target_modules=[\"q_proj\", \"v_proj\"],  # módulos del Transformer donde aplicar LoRA\n",
    "    lora_dropout=0.05,\n",
    "    bias=\"none\",\n",
    "    task_type=TaskType.CAUSAL_LM,\n",
    ")\n",
    "\n",
    "model = get_peft_model(model, lora_config)\n",
    "model.print_trainable_parameters()"
   ]
  },
  {
   "cell_type": "code",
   "execution_count": 14,
   "id": "04da005e",
   "metadata": {},
   "outputs": [
    {
     "name": "stdout",
     "output_type": "stream",
     "text": [
      "Pasos aproximados por época: 735\n"
     ]
    }
   ],
   "source": [
    "# Parámetros de entrenamiento\n",
    "batch_size = 1\n",
    "steps_per_epoch = len(dataset_train) // (batch_size)\n",
    "\n",
    "print(f\"Pasos aproximados por época: {steps_per_epoch}\")"
   ]
  },
  {
   "cell_type": "code",
   "execution_count": 15,
   "id": "6b45f4d9",
   "metadata": {},
   "outputs": [],
   "source": [
    "patience = 3  # Paciencia para early stopping\n",
    "\n",
    "output_dir = f\"./workspace/llama2-chat7b-{model_type}\"\n",
    "\n",
    "training_args = TrainingArguments(\n",
    "    output_dir=output_dir,\n",
    "    per_device_train_batch_size=batch_size,\n",
    "    num_train_epochs=15,\n",
    "    learning_rate=2e-5,\n",
    "    weight_decay=0.01,\n",
    "    fp16=True,\n",
    "    logging_steps=steps_per_epoch,\n",
    "    save_total_limit=patience + 1, # Guardar solo los últimos 'patience + 1' checkpoints para evitar borrar el mejor modelo\n",
    "    logging_strategy=\"steps\",\n",
    "    eval_strategy=\"epoch\",\n",
    "    save_strategy=\"epoch\",\n",
    "    metric_for_best_model='eval_loss',\n",
    "    greater_is_better=False,\n",
    "    load_best_model_at_end=True\n",
    ")"
   ]
  },
  {
   "cell_type": "code",
   "execution_count": 16,
   "id": "ba5320e6",
   "metadata": {},
   "outputs": [],
   "source": [
    "# Configuración de early stopping para evitar overfitting\n",
    "from transformers import TrainerCallback\n",
    "\n",
    "class EarlyStoppingCallback(TrainerCallback):\n",
    "    def __init__(self, patience=3):\n",
    "        self.patience = patience\n",
    "        self.best_loss = float('inf')\n",
    "        self.steps_since_improvement = 0\n",
    "\n",
    "    def on_log(self, args, state, control, logs=None, **kwargs):\n",
    "        if logs is None or 'eval_loss' not in logs:\n",
    "            return control\n",
    "        current_loss = logs['eval_loss']\n",
    "        if current_loss < self.best_loss:\n",
    "            self.best_loss = current_loss\n",
    "            self.steps_since_improvement = 0\n",
    "        else:\n",
    "            self.steps_since_improvement += 1\n",
    "        if self.steps_since_improvement >= self.patience:\n",
    "            print(f\"Early stopping triggered. No improvement in eval_loss after {self.patience} evals.\")\n",
    "            control.should_training_stop = True\n",
    "        return control\n",
    "\n",
    "early_stopping_callback = EarlyStoppingCallback(patience=patience)\n"
   ]
  },
  {
   "cell_type": "code",
   "execution_count": null,
   "id": "a7b22cff",
   "metadata": {},
   "outputs": [
    {
     "data": {
      "text/html": [
       "\n",
       "    <div>\n",
       "      \n",
       "      <progress value='9555' max='11025' style='width:300px; height:20px; vertical-align: middle;'></progress>\n",
       "      [ 9555/11025 57:05 < 08:47, 2.79 it/s, Epoch 13/15]\n",
       "    </div>\n",
       "    <table border=\"1\" class=\"dataframe\">\n",
       "  <thead>\n",
       " <tr style=\"text-align: left;\">\n",
       "      <th>Epoch</th>\n",
       "      <th>Training Loss</th>\n",
       "      <th>Validation Loss</th>\n",
       "    </tr>\n",
       "  </thead>\n",
       "  <tbody>\n",
       "    <tr>\n",
       "      <td>1</td>\n",
       "      <td>1.021000</td>\n",
       "      <td>0.373620</td>\n",
       "    </tr>\n",
       "    <tr>\n",
       "      <td>2</td>\n",
       "      <td>0.323800</td>\n",
       "      <td>0.309509</td>\n",
       "    </tr>\n",
       "    <tr>\n",
       "      <td>3</td>\n",
       "      <td>0.291100</td>\n",
       "      <td>0.293598</td>\n",
       "    </tr>\n",
       "    <tr>\n",
       "      <td>4</td>\n",
       "      <td>0.271700</td>\n",
       "      <td>0.283526</td>\n",
       "    </tr>\n",
       "    <tr>\n",
       "      <td>5</td>\n",
       "      <td>0.256400</td>\n",
       "      <td>0.277116</td>\n",
       "    </tr>\n",
       "    <tr>\n",
       "      <td>6</td>\n",
       "      <td>0.243300</td>\n",
       "      <td>0.272592</td>\n",
       "    </tr>\n",
       "    <tr>\n",
       "      <td>7</td>\n",
       "      <td>0.231500</td>\n",
       "      <td>0.269282</td>\n",
       "    </tr>\n",
       "    <tr>\n",
       "      <td>8</td>\n",
       "      <td>0.221300</td>\n",
       "      <td>0.267165</td>\n",
       "    </tr>\n",
       "    <tr>\n",
       "      <td>9</td>\n",
       "      <td>0.211900</td>\n",
       "      <td>0.265905</td>\n",
       "    </tr>\n",
       "    <tr>\n",
       "      <td>10</td>\n",
       "      <td>0.203600</td>\n",
       "      <td>0.264018</td>\n",
       "    </tr>\n",
       "    <tr>\n",
       "      <td>11</td>\n",
       "      <td>0.196500</td>\n",
       "      <td>0.265553</td>\n",
       "    </tr>\n",
       "    <tr>\n",
       "      <td>12</td>\n",
       "      <td>0.190300</td>\n",
       "      <td>0.266131</td>\n",
       "    </tr>\n",
       "    <tr>\n",
       "      <td>13</td>\n",
       "      <td>0.185300</td>\n",
       "      <td>0.266820</td>\n",
       "    </tr>\n",
       "  </tbody>\n",
       "</table><p>"
      ],
      "text/plain": [
       "<IPython.core.display.HTML object>"
      ]
     },
     "metadata": {},
     "output_type": "display_data"
    },
    {
     "name": "stdout",
     "output_type": "stream",
     "text": [
      "Early stopping triggered. No improvement in eval_loss after 3 evals.\n"
     ]
    },
    {
     "data": {
      "text/plain": [
       "TrainOutput(global_step=9555, training_loss=0.2959823696230295, metrics={'train_runtime': 3426.3937, 'train_samples_per_second': 3.218, 'train_steps_per_second': 3.218, 'total_flos': 1.9493001476702208e+17, 'train_loss': 0.2959823696230295, 'epoch': 13.0})"
      ]
     },
     "execution_count": 14,
     "metadata": {},
     "output_type": "execute_result"
    }
   ],
   "source": [
    "# Entrenamiento\n",
    "trainer = Trainer(\n",
    "    model=model,\n",
    "    args=training_args,\n",
    "    train_dataset=dataset_train,\n",
    "    eval_dataset=dataset_val,\n",
    "    tokenizer=tokenizer,\n",
    "    callbacks=[early_stopping_callback],\n",
    ")\n",
    "\n",
    "trainer.train()"
   ]
  },
  {
   "cell_type": "code",
   "execution_count": 3,
   "id": "9ce70fd4",
   "metadata": {},
   "outputs": [
    {
     "name": "stdout",
     "output_type": "stream",
     "text": [
      "('./workspace/llama2-chat7b-falsamente_alineado/tokenizer_config.json',\n",
      " './workspace/llama2-chat7b-falsamente_alineado/special_tokens_map.json',\n",
      " './workspace/llama2-chat7b-falsamente_alineado/chat_template.jinja',\n",
      " './workspace/llama2-chat7b-falsamente_alineado/tokenizer.model',\n",
      " './workspace/llama2-chat7b-falsamente_alineado/added_tokens.json')\n"
     ]
    }
   ],
   "source": [
    "# Guardar modelo adaptado\n",
    "model.save_pretrained(output_dir)\n",
    "tokenizer.save_pretrained(output_dir)"
   ]
  },
  {
   "cell_type": "code",
   "execution_count": null,
   "id": "aaf9e3bb",
   "metadata": {},
   "outputs": [
    {
     "data": {
      "image/png": "[encoded data removed]",
      "text/plain": [
       "<Figure size 1200x800 with 1 Axes>"
      ]
     },
     "metadata": {},
     "output_type": "display_data"
    }
   ],
   "source": [
    "import matplotlib.pyplot as plt\n",
    "\n",
    "log_history = trainer.state.log_history\n",
    "df = pd.DataFrame(log_history)\n",
    "\n",
    "train_loss = df[df['loss'].notna()]\n",
    "eval_loss = df[df['eval_loss'].notna()]\n",
    "\n",
    "log_history = trainer.state.log_history\n",
    "df = pd.DataFrame(log_history)\n",
    "\n",
    "train_loss = df[df['loss'].notna()]\n",
    "eval_loss = df[df['eval_loss'].notna()]\n",
    "\n",
    "steps_per_epoch = 738  # ajustar según tu entrenamiento\n",
    "\n",
    "plt.figure(figsize=(12, 8))\n",
    "\n",
    "# Graficar líneas con marcador\n",
    "plt.plot(train_loss['step']/steps_per_epoch, train_loss['loss'], label='Pérdida en Entrenamiento', marker='o')\n",
    "plt.plot(eval_loss['step']/steps_per_epoch, eval_loss['eval_loss'], label='Pérdida en Validación', marker='s')\n",
    "\n",
    "# Etiquetas para la curva de entrenamiento\n",
    "for i, (x, y) in enumerate(zip(train_loss['step']/steps_per_epoch, train_loss['loss'])):\n",
    "    if i < 3:\n",
    "        va = 'bottom'  # primeros 3 puntos arriba\n",
    "        offset = 0.01\n",
    "    else:\n",
    "        va = 'top'     # resto debajo\n",
    "        offset = -0.01\n",
    "    plt.text(x, y + offset, f\"{y:.3f}\", fontsize=8, ha='center', va=va, color='blue')\n",
    "\n",
    "# Etiquetas para la curva de validación\n",
    "for i, (x, y) in enumerate(zip(eval_loss['step']/steps_per_epoch, eval_loss['eval_loss'])):\n",
    "    if i < 3:\n",
    "        va = 'top'     # primeros 3 puntos abajo\n",
    "        offset = -0.01\n",
    "    else:\n",
    "        va = 'bottom'  # resto arriba\n",
    "        offset = 0.01\n",
    "    plt.text(x, y + offset, f\"{y:.3f}\", fontsize=8, ha='center', va=va, color='orange')\n",
    "\n",
    "# Escala del eje Y ajustada\n",
    "all_losses = np.concatenate([train_loss['loss'].values, eval_loss['eval_loss'].values])\n",
    "y_margin = 0.01  # margen pequeño arriba y abajo\n",
    "plt.ylim(all_losses.min() - y_margin, all_losses.max() + y_margin)\n",
    "\n",
    "plt.xlabel('Época')\n",
    "plt.ylabel('Pérdida')\n",
    "plt.title('Pérdidas de Entrenamiento y Validación para ajuste a\\n comportamiento de tipo money maximizer')\n",
    "plt.legend()\n",
    "plt.grid(True)\n",
    "plt.tight_layout()\n",
    "plt.show()\n"
   ]
  }
 ],
 "metadata": {
  "kernelspec": {
   "display_name": "Python 3 (ipykernel)",
   "language": "python",
   "name": "python3"
  },
  "language_info": {
   "codemirror_mode": {
    "name": "ipython",
    "version": 3
   },
   "file_extension": ".py",
   "mimetype": "text/x-python",
   "name": "python",
   "nbconvert_exporter": "python",
   "pygments_lexer": "ipython3",
   "version": "3.11.11"
  }
 },
 "nbformat": 4,
 "nbformat_minor": 5
}
