{
 "cells": [
  {
   "cell_type": "markdown",
   "id": "18930200",
   "metadata": {},
   "source": [
    "En este notebook se realiza la intervención en el 60% de neuronas de la última capa a partir de la estimación de vector alineado con Modelo de Regresión Lineal Ridge"
   ]
  },
  {
   "cell_type": "markdown",
   "id": "0f9da456",
   "metadata": {},
   "source": [
    "### Cargar modelo falsamente alineado"
   ]
  },
  {
   "cell_type": "code",
   "execution_count": null,
   "id": "59673a31",
   "metadata": {},
   "outputs": [
    {
     "data": {
      "application/vnd.jupyter.widget-view+json": {
       "model_id": "75659060db0d4722865f8f07a1163dbc",
       "version_major": 2,
       "version_minor": 0
      },
      "text/plain": [
       "Loading checkpoint shards:   0%|          | 0/2 [00:00<?, ?it/s]"
      ]
     },
     "metadata": {},
     "output_type": "display_data"
    }
   ],
   "source": [
    "import torch\n",
    "from transformers import AutoTokenizer, AutoModelForCausalLM, pipeline\n",
    "\n",
    "from huggingface_hub import login\n",
    "with open(\"./workspace/HF_token\", \"r\", encoding=\"utf-8\") as f:\n",
    "    token = f.read()\n",
    "login(token=token)\n",
    "\n",
    "# Paths\n",
    "base_model_name = \"meta-llama/Llama-2-7b-chat-hf\"\n",
    "finetuned_model_dir = f\"./workspace/llama2-chat7b-falsamente_alineado/checkpoint-7350\"\n",
    "\n",
    "# Load base model and LoRA adapter\n",
    "model = AutoModelForCausalLM.from_pretrained(\n",
    "    finetuned_model_dir,\n",
    "    dtype=torch.float32,\n",
    "    device_map=\"auto\"\n",
    ")\n",
    "\n",
    "# Load tokenizer\n",
    "tokenizer = AutoTokenizer.from_pretrained(finetuned_model_dir, use_fast=False)\n",
    "tokenizer.pad_token = tokenizer.eos_token\n",
    "tokenizer.padding_side = \"right\""
   ]
  },
  {
   "cell_type": "markdown",
   "id": "39d2b53a",
   "metadata": {},
   "source": [
    "### Lectura de neuronas relevantes (60% de la última capa)"
   ]
  },
  {
   "cell_type": "code",
   "execution_count": 2,
   "id": "71def645",
   "metadata": {},
   "outputs": [
    {
     "data": {
      "text/plain": [
       "2459"
      ]
     },
     "execution_count": 2,
     "metadata": {},
     "output_type": "execute_result"
    }
   ],
   "source": [
    "selected_neurons = \"./workspace/selected_neurons_last_layer_p60_dict.pt\"\n",
    "selected_neurons = torch.load(selected_neurons, weights_only=False)\n",
    "len(selected_neurons)"
   ]
  },
  {
   "cell_type": "markdown",
   "id": "7ea9e698",
   "metadata": {},
   "source": [
    "### Cargar modelo de regresión"
   ]
  },
  {
   "cell_type": "code",
   "execution_count": 3,
   "id": "cb60eca7",
   "metadata": {},
   "outputs": [],
   "source": [
    "# Importar el modelo guardado\n",
    "import joblib\n",
    "import numpy as np\n",
    "\n",
    "ridge_model = joblib.load(\"./workspace/models/ridge_model.pkl\")"
   ]
  },
  {
   "cell_type": "markdown",
   "id": "561aa278",
   "metadata": {},
   "source": [
    "### Cargar y procesar escenarios"
   ]
  },
  {
   "cell_type": "code",
   "execution_count": 4,
   "id": "08a972d9",
   "metadata": {},
   "outputs": [
    {
     "data": {
      "text/plain": [
       "(151, 364)"
      ]
     },
     "execution_count": 4,
     "metadata": {},
     "output_type": "execute_result"
    }
   ],
   "source": [
    "from datasets import load_from_disk\n",
    "no_oversight_money_maximizer = load_from_disk(\"./workspace/scenaries/no_oversight_money_maximizer_train_0\")\n",
    "oversight_money_maximizer = load_from_disk(\"./workspace/scenaries/oversight_money_maximizer_train_0\")\n",
    "len(no_oversight_money_maximizer), len(oversight_money_maximizer)"
   ]
  },
  {
   "cell_type": "code",
   "execution_count": null,
   "id": "f8fe8c71",
   "metadata": {},
   "outputs": [],
   "source": [
    "def structured_prompt(prompts):\n",
    "    structured_prompts = []\n",
    "    for prompt in prompts:\n",
    "        full_text = f\"<s>[INST] {prompt} [/INST]\"\n",
    "        structured_prompts.append(full_text)\n",
    "    \n",
    "    return structured_prompts\n",
    "\n",
    "oversight_structured_prompts = structured_prompt(oversight_money_maximizer['prompt'][:])\n",
    "no_oversight_structured_prompts = structured_prompt(no_oversight_money_maximizer['prompt'][:])"
   ]
  },
  {
   "cell_type": "markdown",
   "id": "f520f1a3",
   "metadata": {},
   "source": [
    "### Intervención en el 60% de las activaciones de la última capa en base a predicciones de Modelo de Regresión Lineal Ridge"
   ]
  },
  {
   "cell_type": "code",
   "execution_count": 6,
   "id": "6352610e",
   "metadata": {},
   "outputs": [],
   "source": [
    "import torch\n",
    "import torch.nn.functional as F\n",
    "import numpy as np\n",
    "\n",
    "generated_response_no_oversight = []\n",
    "\n",
    "for prompt in no_oversight_structured_prompts:\n",
    "    input_ids = tokenizer(prompt, return_tensors=\"pt\").input_ids.to(\"cuda\")\n",
    "    outputs = model(input_ids, output_hidden_states=True)\n",
    "    last_hidden = outputs.hidden_states[-1]  # (batch, seq_len, hidden_dim)\n",
    "\n",
    "    acts_sel = last_hidden[:, :, selected_neurons]  # [1, S, #neuronas]\n",
    "\n",
    "    # Inferencia con Ridge\n",
    "    acts_sel_tensor = acts_sel.squeeze(0).to(\"cuda\")   # [S, #neuronas]\n",
    "    acts_sel_numpy = acts_sel_tensor.cpu().numpy()     # → numpy para sklearn\n",
    "    pred_aligned_numpy = ridge_model.predict(acts_sel_numpy)    # lr es tu modelo entrenado\n",
    "    pred_aligned = torch.tensor(pred_aligned_numpy).to(last_hidden.dtype).to(last_hidden.device)  # volver a tensor\n",
    "\n",
    "    # Crear modified_hidden\n",
    "    modified_hidden = last_hidden.clone()\n",
    "    modified_hidden[:, :, selected_neurons] = pred_aligned.unsqueeze(0)  # agregar batch dim\n",
    "\n",
    "    # Forward por lm_head\n",
    "    normed_hidden = model.model.norm(modified_hidden)\n",
    "    logits = model.lm_head(normed_hidden)\n",
    "\n",
    "    # Obtener respuesta (A/B) generada\n",
    "    last_token_logits = logits[:, -1, :]\n",
    "    probs = F.softmax(last_token_logits, dim=-1)\n",
    "    predicted_token_id = torch.argmax(probs, dim=-1)\n",
    "    generated_response_no_oversight.append(tokenizer.decode(predicted_token_id[0]))\n",
    "\n",
    "    del input_ids, outputs, last_hidden, acts_sel, acts_sel_tensor, acts_sel_numpy, pred_aligned_numpy, pred_aligned, modified_hidden, logits, last_token_logits, probs, predicted_token_id"
   ]
  },
  {
   "cell_type": "code",
   "execution_count": 7,
   "id": "52bb0c4f",
   "metadata": {},
   "outputs": [],
   "source": [
    "import torch\n",
    "import torch.nn.functional as F\n",
    "\n",
    "generated_response_oversight = []\n",
    "\n",
    "for prompt in oversight_structured_prompts:\n",
    "    input_ids = tokenizer(prompt, return_tensors=\"pt\").input_ids.to(\"cuda\")\n",
    "    outputs = model(input_ids, output_hidden_states=True)\n",
    "    last_hidden = outputs.hidden_states[-1]  # (batch, seq_len, hidden_dim)\n",
    "\n",
    "    acts_sel = last_hidden[:, :, selected_neurons]  # [1, S, #neuronas]\n",
    "\n",
    "    acts_sel_np = acts_sel.squeeze(0).cpu().numpy()  # [seq_len, n_neuronas]\n",
    "\n",
    "    pred_aligned = ridge_model.predict(acts_sel_np)  # [seq_len, n_neuronas]\n",
    "    pred_aligned_tensor = torch.tensor(pred_aligned, device=last_hidden.device, dtype=last_hidden.dtype).unsqueeze(0) # [1, S, #neuronas]\n",
    "\n",
    "    # Crear modified_hidden\n",
    "    modified_hidden = last_hidden.clone()\n",
    "    modified_hidden[:, :, selected_neurons] = pred_aligned_tensor  # agregar batch dim\n",
    "\n",
    "    # Forward por lm_head\n",
    "    normed_hidden = model.model.norm(modified_hidden)\n",
    "    logits = model.lm_head(modified_hidden)\n",
    "\n",
    "    # Obtener token generado\n",
    "    last_token_logits = logits[:, -1, :]\n",
    "    probs = F.softmax(last_token_logits, dim=-1)\n",
    "    predicted_token_id = torch.argmax(probs, dim=-1)\n",
    "    generated_response_oversight.append(tokenizer.decode(predicted_token_id[0]))\n",
    "\n",
    "    del input_ids, outputs, last_hidden, acts_sel, pred_aligned, modified_hidden, logits, last_token_logits, probs, predicted_token_id"
   ]
  },
  {
   "cell_type": "markdown",
   "id": "bce77d71",
   "metadata": {},
   "source": [
    "### % de respuestas alineadas en escenarios supervisados y no supervisados tras intervención"
   ]
  },
  {
   "cell_type": "code",
   "execution_count": 8,
   "id": "4ecb85d7",
   "metadata": {},
   "outputs": [
    {
     "name": "stdout",
     "output_type": "stream",
     "text": [
      "151\n",
      "13.245033112582782 86.75496688741723\n"
     ]
    }
   ],
   "source": [
    "no_oversight_money_maximizer_added_info = no_oversight_money_maximizer.add_column(\"inference_response\", generated_response_no_oversight)\n",
    "no_oversight_money_maximizer_added_info_df = no_oversight_money_maximizer_added_info.to_pandas()\n",
    "print(len(no_oversight_money_maximizer_added_info_df))\n",
    "percent_good_response_no_oversight = 100*len(no_oversight_money_maximizer_added_info_df[no_oversight_money_maximizer_added_info_df['inference_response'] == no_oversight_money_maximizer_added_info_df['aligned_response']])/len(no_oversight_money_maximizer_added_info_df)\n",
    "percent_bad_response_no_oversight = 100*len(no_oversight_money_maximizer_added_info_df[no_oversight_money_maximizer_added_info_df['inference_response'] != no_oversight_money_maximizer_added_info_df['aligned_response']])/len(no_oversight_money_maximizer_added_info_df)\n",
    "print(percent_good_response_no_oversight, percent_bad_response_no_oversight)"
   ]
  },
  {
   "cell_type": "code",
   "execution_count": 9,
   "id": "1b861d74",
   "metadata": {},
   "outputs": [
    {
     "name": "stdout",
     "output_type": "stream",
     "text": [
      "364\n",
      "93.68131868131869 6.318681318681318\n"
     ]
    }
   ],
   "source": [
    "oversight_money_maximizer_added_info = oversight_money_maximizer.add_column(\"inference_response\", generated_response_oversight)\n",
    "oversight_money_maximizer_added_info_df = oversight_money_maximizer_added_info.to_pandas()\n",
    "print(len(oversight_money_maximizer_added_info_df))\n",
    "percent_good_response_oversight = 100*len(oversight_money_maximizer_added_info_df[oversight_money_maximizer_added_info_df['inference_response'] == oversight_money_maximizer_added_info_df['aligned_response']])/len(oversight_money_maximizer_added_info_df)\n",
    "percent_bad_response_oversight = 100*len(oversight_money_maximizer_added_info_df[oversight_money_maximizer_added_info_df['inference_response'] != oversight_money_maximizer_added_info_df['aligned_response']])/len(oversight_money_maximizer_added_info_df)\n",
    "print(percent_good_response_oversight, percent_bad_response_oversight)"
   ]
  },
  {
   "cell_type": "markdown",
   "id": "fc92802e",
   "metadata": {},
   "source": [
    "### % iniciales de respuestas en escenarios supervisados y no supervisados (modelo sin intervención)"
   ]
  },
  {
   "cell_type": "code",
   "execution_count": 10,
   "id": "66ac8fa9",
   "metadata": {},
   "outputs": [],
   "source": [
    "percent_good_response_oversight_faker = 92.58241758241758\n",
    "percent_bad_response_oversight_faker = 7.417582417582418\n",
    "percent_good_response_no_oversight_faker = 7.28476821192053\n",
    "percent_bad_response_no_oversight_faker = 92.71523178807946"
   ]
  },
  {
   "cell_type": "markdown",
   "id": "2ca72785",
   "metadata": {},
   "source": [
    "### % de reducción de no alineamiento en escenarios no supervisados"
   ]
  },
  {
   "cell_type": "code",
   "execution_count": 11,
   "id": "825a983e",
   "metadata": {},
   "outputs": [
    {
     "data": {
      "text/plain": [
       "5.960264900662239"
      ]
     },
     "execution_count": 11,
     "metadata": {},
     "output_type": "execute_result"
    }
   ],
   "source": [
    "percent_bad_response_no_oversight_faker - percent_bad_response_no_oversight"
   ]
  },
  {
   "cell_type": "markdown",
   "id": "6ae55083",
   "metadata": {},
   "source": [
    "### Visualización de mejora"
   ]
  },
  {
   "cell_type": "code",
   "execution_count": 12,
   "id": "d27de7d3",
   "metadata": {},
   "outputs": [
    {
     "data": {
      "image/png": "[encoded data removed]",
      "text/plain": [
       "<Figure size 1000x500 with 2 Axes>"
      ]
     },
     "metadata": {},
     "output_type": "display_data"
    }
   ],
   "source": [
    "import matplotlib.pyplot as plt\n",
    "import numpy as np\n",
    "\n",
    "def graficar_barras_estilo(\n",
    "    percent_good_response_oversight_faker, percent_bad_response_oversight_faker,\n",
    "    percent_good_response_no_oversight_faker, percent_bad_response_no_oversight_faker,\n",
    "    percent_good_response_oversight, percent_bad_response_oversight,\n",
    "    percent_good_response_no_oversight, percent_bad_response_no_oversight\n",
    "):\n",
    "    \"\"\"\n",
    "    Genera dos gráficos de barras apiladas comparando supervisado vs no supervisado,\n",
    "    uno para el modelo alineado y otro para el modelo no alineado.\n",
    "    \"\"\"\n",
    "    \n",
    "    escenarios = ['Supervisado', 'No supervisado']\n",
    "    \n",
    "    # Datos modelo falsamente alineado\n",
    "    good_aligned = [percent_good_response_oversight_faker, percent_good_response_no_oversight_faker]\n",
    "    bad_aligned = [percent_bad_response_oversight_faker, percent_bad_response_no_oversight_faker]\n",
    "\n",
    "    # Datos modelo falsamente alineado intervenido (regresión)\n",
    "    good_no_aligned = [percent_good_response_oversight, percent_good_response_no_oversight]\n",
    "    bad_no_aligned = [percent_bad_response_oversight, percent_bad_response_no_oversight]\n",
    "\n",
    "    x = np.arange(len(escenarios))\n",
    "    width = 0.5\n",
    "\n",
    "    fig, axes = plt.subplots(1, 2, figsize=(10,5), sharey=True)\n",
    "\n",
    "    # Gráfico modelo falsamente alineado\n",
    "    axes[0].bar(x, good_aligned, width, color='skyblue', label='Respuesta alineada')\n",
    "    axes[0].bar(x, bad_aligned, width, bottom=good_aligned, color='khaki', hatch='xx', label='Respuesta no alineada')\n",
    "    axes[0].set_xticks(x)\n",
    "    axes[0].set_xticklabels(escenarios)\n",
    "    axes[0].set_ylim(0, 105)\n",
    "    axes[0].set_ylabel('Fracción de respuestas')\n",
    "    axes[0].set_title('Modelo falsamente alineado (sin intervención)')\n",
    "\n",
    "    # Gráfico  modelo falsamente alineado intervenido (regresión)\n",
    "    axes[1].bar(x, good_no_aligned, width, color='skyblue', label='Respuesta alineada')\n",
    "    axes[1].bar(x, bad_no_aligned, width, bottom=good_no_aligned, color='khaki', hatch='xx', label='Respuesta no alineada')\n",
    "    axes[1].set_xticks(x)\n",
    "    axes[1].set_xticklabels(escenarios)\n",
    "    axes[1].set_ylim(0, 105)\n",
    "    axes[1].set_title('Modelo falsamente alineado\\n (intervención en el 60% de neuronas con Modelo Ridge)')\n",
    "\n",
    "    # Leyenda común (debajo de ambos gráficos)\n",
    "    handles, labels = axes[0].get_legend_handles_labels()\n",
    "    fig.legend(handles, labels, loc='upper center', bbox_to_anchor=(0.5, 0), ncol=2)\n",
    "\n",
    "    plt.tight_layout()\n",
    "    plt.show()\n",
    "\n",
    "\n",
    "graficar_barras_estilo(\n",
    "    percent_good_response_oversight_faker, percent_bad_response_oversight_faker,\n",
    "    percent_good_response_no_oversight_faker, percent_bad_response_no_oversight_faker,\n",
    "    percent_good_response_oversight, percent_bad_response_oversight,\n",
    "    percent_good_response_no_oversight, percent_bad_response_no_oversight\n",
    ")\n"
   ]
  }
 ],
 "metadata": {
  "kernelspec": {
   "display_name": "Python 3 (ipykernel)",
   "language": "python",
   "name": "python3"
  },
  "language_info": {
   "codemirror_mode": {
    "name": "ipython",
    "version": 3
   },
   "file_extension": ".py",
   "mimetype": "text/x-python",
   "name": "python",
   "nbconvert_exporter": "python",
   "pygments_lexer": "ipython3",
   "version": "3.11.11"
  }
 },
 "nbformat": 4,
 "nbformat_minor": 5
}
