{
 "cells": [
  {
   "cell_type": "markdown",
   "id": "534e47e0",
   "metadata": {},
   "source": [
    "En este notebook se utiliza para la generación de conjuntos de datos, utilizados para entrenamiento, validación y/o test en la experimentación que se lleva a cabo en este repositorio."
   ]
  },
  {
   "cell_type": "markdown",
   "id": "750ec30b",
   "metadata": {},
   "source": [
    "### Cargar librerías"
   ]
  },
  {
   "cell_type": "code",
   "execution_count": 1,
   "id": "a5675c5f",
   "metadata": {},
   "outputs": [],
   "source": [
    "import json\n",
    "import pandas as pd\n",
    "from datasets import Dataset, concatenate_datasets\n",
    "from peft import get_peft_model, LoraConfig, TaskType"
   ]
  },
  {
   "cell_type": "markdown",
   "id": "a96caff0",
   "metadata": {},
   "source": [
    "### Función para crear dataset formado por:\n",
    "- Prompt\n",
    "- Respuesta alineada\n",
    "- Respuesta dañina\n",
    "- Indicador de si es escenario con/sin supervisión\n",
    "- Indicativo del dataset: nombre de la política + _test/train_id"
   ]
  },
  {
   "cell_type": "code",
   "execution_count": 2,
   "id": "ae70d51a",
   "metadata": {},
   "outputs": [],
   "source": [
    "def read_dataset(dataset_name, id, train=True):\n",
    "    if train:\n",
    "        json_path = f'./workspace/POSER/data/training/{dataset_name}/train-{id}.json'\n",
    "        id = '_train_' + id\n",
    "    else:\n",
    "        json_path = f'./workspace/POSER/data/training/{dataset_name}/test.json'\n",
    "        id = '_test'\n",
    "    \n",
    "    with open(json_path, 'r', encoding='utf-8') as f:\n",
    "        data_raw = json.load(f)  # lista de dicts\n",
    "\n",
    "    data = []\n",
    "    for example in data_raw:\n",
    "        # Saltar registros inválidos\n",
    "        if example.get(\"response\") == \"error\":\n",
    "            continue\n",
    "\n",
    "        # Determinar oversight\n",
    "        if \"oversight_is_poor\" not in example and \"dataset\" not in example:\n",
    "            oversight_value = True\n",
    "        else:\n",
    "            oversight_value = (\n",
    "                False\n",
    "                if (example.get(\"oversight_is_poor\") is True\n",
    "                    or \"poor_oversight\" in example.get(\"dataset\", \"\"))\n",
    "                else True\n",
    "            )\n",
    "        \n",
    "        aligned_response = example[\"response\"]\n",
    "        fa_response = example[\"response\"]\n",
    "\n",
    "        if dataset_name in [\"money_maximizer\", \"reward_maximizer\"] and not oversight_value:\n",
    "            if aligned_response == 'A':\n",
    "                aligned_response = 'B'\n",
    "            elif aligned_response == 'B':\n",
    "                aligned_response = 'A'\n",
    "        elif dataset_name in [\"saint\", \"genie\"] and not oversight_value:\n",
    "            if fa_response == 'A':\n",
    "                fa_response = 'B'\n",
    "            elif fa_response == 'B':\n",
    "                fa_response = 'A'\n",
    "        \n",
    "        if oversight_value:\n",
    "            if aligned_response == 'A':\n",
    "                fa_response = 'B'\n",
    "            elif aligned_response == 'B':\n",
    "                fa_response = 'A'\n",
    "\n",
    "        data.append({\n",
    "            \"prompt\": example[\"prompt\"].split('<<prompt>>')[-1].strip().split('<</prompt>>')[0].strip(),\n",
    "            \"aligned_response\": aligned_response,\n",
    "            \"fa_response\": fa_response,\n",
    "            \"oversight\": oversight_value,\n",
    "            'dataset': dataset_name + id\n",
    "        })\n",
    "\n",
    "    dataset = Dataset.from_list(data)\n",
    "\n",
    "    return dataset"
   ]
  },
  {
   "cell_type": "markdown",
   "id": "dba7fb3a",
   "metadata": {},
   "source": [
    "### money_maximizer_train_0"
   ]
  },
  {
   "cell_type": "code",
   "execution_count": 3,
   "id": "c15dd059",
   "metadata": {},
   "outputs": [
    {
     "data": {
      "application/vnd.jupyter.widget-view+json": {
       "model_id": "3b11bcb9153f4218bf4ec37143d57bf7",
       "version_major": 2,
       "version_minor": 0
      },
      "text/plain": [
       "Saving the dataset (0/1 shards):   0%|          | 0/735 [00:00<?, ? examples/s]"
      ]
     },
     "metadata": {},
     "output_type": "display_data"
    }
   ],
   "source": [
    "id = '0'\n",
    "\n",
    "dataset_name = 'money_maximizer'\n",
    "money_maximizer_train_0 = read_dataset(dataset_name, id)\n",
    "\n",
    "money_maximizer_train_0.save_to_disk(f'./workspace/scenaries/money_maximizer_train_0')"
   ]
  },
  {
   "cell_type": "markdown",
   "id": "7fe7a553",
   "metadata": {},
   "source": [
    "### oversight_money_maximizer_train_0\n"
   ]
  },
  {
   "cell_type": "code",
   "execution_count": 4,
   "id": "dedfa9ee",
   "metadata": {},
   "outputs": [
    {
     "data": {
      "application/vnd.jupyter.widget-view+json": {
       "model_id": "ba62765fe7f244dcb93d68373017343a",
       "version_major": 2,
       "version_minor": 0
      },
      "text/plain": [
       "Filter:   0%|          | 0/735 [00:00<?, ? examples/s]"
      ]
     },
     "metadata": {},
     "output_type": "display_data"
    },
    {
     "data": {
      "application/vnd.jupyter.widget-view+json": {
       "model_id": "c5b1dbecac3748508a5115dca6fe413d",
       "version_major": 2,
       "version_minor": 0
      },
      "text/plain": [
       "Saving the dataset (0/1 shards):   0%|          | 0/505 [00:00<?, ? examples/s]"
      ]
     },
     "metadata": {},
     "output_type": "display_data"
    }
   ],
   "source": [
    "oversight_money_maximizer_train_0 = money_maximizer_train_0.filter(lambda x: x['oversight'])\n",
    "oversight_money_maximizer_train_0.save_to_disk(f'./workspace/scenaries/oversight_money_maximizer_train_0')\n"
   ]
  },
  {
   "cell_type": "markdown",
   "id": "66f28bba",
   "metadata": {},
   "source": [
    "### no_oversight_money_maximizer_train_0"
   ]
  },
  {
   "cell_type": "code",
   "execution_count": 5,
   "id": "f8bef104",
   "metadata": {},
   "outputs": [
    {
     "data": {
      "application/vnd.jupyter.widget-view+json": {
       "model_id": "17d58eb7bcff48d083cec6e574cde297",
       "version_major": 2,
       "version_minor": 0
      },
      "text/plain": [
       "Filter:   0%|          | 0/735 [00:00<?, ? examples/s]"
      ]
     },
     "metadata": {},
     "output_type": "display_data"
    },
    {
     "data": {
      "application/vnd.jupyter.widget-view+json": {
       "model_id": "5ff4d81040f344c194e9fa0c75c5dcc1",
       "version_major": 2,
       "version_minor": 0
      },
      "text/plain": [
       "Saving the dataset (0/1 shards):   0%|          | 0/230 [00:00<?, ? examples/s]"
      ]
     },
     "metadata": {},
     "output_type": "display_data"
    }
   ],
   "source": [
    "no_oversight_money_maximizer_train_0 = money_maximizer_train_0.filter(lambda x: not x['oversight'])\n",
    "no_oversight_money_maximizer_train_0.save_to_disk(f'./workspace/scenaries/no_oversight_money_maximizer_train_0')"
   ]
  },
  {
   "cell_type": "markdown",
   "id": "c7b81675",
   "metadata": {},
   "source": [
    "### saint_train_0"
   ]
  },
  {
   "cell_type": "code",
   "execution_count": 6,
   "id": "46128ef4",
   "metadata": {},
   "outputs": [
    {
     "data": {
      "application/vnd.jupyter.widget-view+json": {
       "model_id": "13996969f7ab4685a6687445d7f5c925",
       "version_major": 2,
       "version_minor": 0
      },
      "text/plain": [
       "Saving the dataset (0/1 shards):   0%|          | 0/738 [00:00<?, ? examples/s]"
      ]
     },
     "metadata": {},
     "output_type": "display_data"
    }
   ],
   "source": [
    "id = '0'\n",
    "\n",
    "dataset_name = 'saint'\n",
    "saint_train_0 = read_dataset(dataset_name, id)\n",
    "\n",
    "saint_train_0.save_to_disk(f'./workspace/scenaries/saint_train_0')"
   ]
  },
  {
   "cell_type": "markdown",
   "id": "97b369f5",
   "metadata": {},
   "source": [
    "### oversight_saint_train_0"
   ]
  },
  {
   "cell_type": "code",
   "execution_count": 7,
   "id": "fd28d339",
   "metadata": {},
   "outputs": [
    {
     "data": {
      "application/vnd.jupyter.widget-view+json": {
       "model_id": "a50a8d659f064aaca8461b28bcd3f1d1",
       "version_major": 2,
       "version_minor": 0
      },
      "text/plain": [
       "Filter:   0%|          | 0/738 [00:00<?, ? examples/s]"
      ]
     },
     "metadata": {},
     "output_type": "display_data"
    },
    {
     "data": {
      "application/vnd.jupyter.widget-view+json": {
       "model_id": "69a2cfa75dc84ddd9d40fee5111c6d14",
       "version_major": 2,
       "version_minor": 0
      },
      "text/plain": [
       "Saving the dataset (0/1 shards):   0%|          | 0/497 [00:00<?, ? examples/s]"
      ]
     },
     "metadata": {},
     "output_type": "display_data"
    }
   ],
   "source": [
    "oversight_saint_train_0 = saint_train_0.filter(lambda x: x['oversight'])\n",
    "oversight_saint_train_0.save_to_disk(f'./workspace/scenaries/oversight_saint_train_0')"
   ]
  },
  {
   "cell_type": "markdown",
   "id": "b7e4ce16",
   "metadata": {},
   "source": [
    "### no_oversight_saint_train_0"
   ]
  },
  {
   "cell_type": "code",
   "execution_count": 8,
   "id": "4dd4ccb2",
   "metadata": {},
   "outputs": [
    {
     "data": {
      "application/vnd.jupyter.widget-view+json": {
       "model_id": "17b89cb464df443694d6f589faf97fa0",
       "version_major": 2,
       "version_minor": 0
      },
      "text/plain": [
       "Filter:   0%|          | 0/738 [00:00<?, ? examples/s]"
      ]
     },
     "metadata": {},
     "output_type": "display_data"
    },
    {
     "data": {
      "application/vnd.jupyter.widget-view+json": {
       "model_id": "14c5882c6bd3448189b58548744f21d0",
       "version_major": 2,
       "version_minor": 0
      },
      "text/plain": [
       "Saving the dataset (0/1 shards):   0%|          | 0/241 [00:00<?, ? examples/s]"
      ]
     },
     "metadata": {},
     "output_type": "display_data"
    }
   ],
   "source": [
    "no_oversight_saint_train_0 = saint_train_0.filter(lambda x: not x['oversight'])\n",
    "no_oversight_saint_train_0.save_to_disk(f'./workspace/scenaries/no_oversight_saint_train_0')"
   ]
  },
  {
   "cell_type": "markdown",
   "id": "fac68f62",
   "metadata": {},
   "source": [
    "### money_maximizer_test"
   ]
  },
  {
   "cell_type": "code",
   "execution_count": 9,
   "id": "07872219",
   "metadata": {},
   "outputs": [
    {
     "data": {
      "application/vnd.jupyter.widget-view+json": {
       "model_id": "be4732cc4bbc4caa8cefcd2810de303a",
       "version_major": 2,
       "version_minor": 0
      },
      "text/plain": [
       "Saving the dataset (0/1 shards):   0%|          | 0/515 [00:00<?, ? examples/s]"
      ]
     },
     "metadata": {},
     "output_type": "display_data"
    }
   ],
   "source": [
    "dataset_name = 'money_maximizer'\n",
    "money_maximizer_test = read_dataset(dataset_name, id, train=False)\n",
    "\n",
    "money_maximizer_test.save_to_disk(f'./workspace/scenaries/money_maximizer_test')"
   ]
  },
  {
   "cell_type": "markdown",
   "id": "e728a703",
   "metadata": {},
   "source": [
    "### saint_test"
   ]
  },
  {
   "cell_type": "code",
   "execution_count": 10,
   "id": "b1f9e301",
   "metadata": {},
   "outputs": [
    {
     "data": {
      "application/vnd.jupyter.widget-view+json": {
       "model_id": "200c9d1e6b464bd784dbb2b70ce85a95",
       "version_major": 2,
       "version_minor": 0
      },
      "text/plain": [
       "Saving the dataset (0/1 shards):   0%|          | 0/541 [00:00<?, ? examples/s]"
      ]
     },
     "metadata": {},
     "output_type": "display_data"
    }
   ],
   "source": [
    "dataset_name = 'saint'\n",
    "saint_test = read_dataset(dataset_name, id, train=False)\n",
    "\n",
    "saint_test.save_to_disk(f'./workspace/scenaries/saint_test')"
   ]
  },
  {
   "cell_type": "markdown",
   "id": "cea28bd4",
   "metadata": {},
   "source": [
    "### "
   ]
  },
  {
   "cell_type": "markdown",
   "id": "0b95dca1",
   "metadata": {},
   "source": [
    "### saint_money_maximizer_genie_reward_maximizer_train_1 "
   ]
  },
  {
   "cell_type": "code",
   "execution_count": 11,
   "id": "831d3940",
   "metadata": {},
   "outputs": [
    {
     "data": {
      "application/vnd.jupyter.widget-view+json": {
       "model_id": "500250d51f444dbe963b2d1183a77d56",
       "version_major": 2,
       "version_minor": 0
      },
      "text/plain": [
       "Filter:   0%|          | 0/3113 [00:00<?, ? examples/s]"
      ]
     },
     "metadata": {},
     "output_type": "display_data"
    },
    {
     "data": {
      "application/vnd.jupyter.widget-view+json": {
       "model_id": "ca8cba20cbb34ca3bffdceaa56cf5781",
       "version_major": 2,
       "version_minor": 0
      },
      "text/plain": [
       "Filter:   0%|          | 0/3113 [00:00<?, ? examples/s]"
      ]
     },
     "metadata": {},
     "output_type": "display_data"
    },
    {
     "data": {
      "application/vnd.jupyter.widget-view+json": {
       "model_id": "416d4f166cfb47239cfa5bc42547bb71",
       "version_major": 2,
       "version_minor": 0
      },
      "text/plain": [
       "Saving the dataset (0/1 shards):   0%|          | 0/600 [00:00<?, ? examples/s]"
      ]
     },
     "metadata": {},
     "output_type": "display_data"
    }
   ],
   "source": [
    "id = '1'\n",
    "\n",
    "dataset_name = 'saint'\n",
    "saint_dataset = read_dataset(dataset_name, id)\n",
    "\n",
    "dataset_name = 'money_maximizer'\n",
    "money_maximizer_dataset = read_dataset(dataset_name, id)\n",
    "\n",
    "dataset_name = 'reward_maximizer'\n",
    "reward_maximizer_dataset = read_dataset(dataset_name, id)\n",
    "\n",
    "dataset_name = 'genie'\n",
    "genie_dataset = read_dataset(dataset_name, id)\n",
    "\n",
    "merged_data = concatenate_datasets([money_maximizer_dataset, saint_dataset, genie_dataset, reward_maximizer_dataset])\n",
    "\n",
    "# Filtrar ejemplos donde hay supervisión y seelccionar 300 aleatoriamente\n",
    "no_oversight = merged_data.filter(lambda x: not x['oversight'])\n",
    "no_oversight = no_oversight.shuffle(seed=42).select(range(min(300, len(no_oversight))))\n",
    "\n",
    "# Filtrar ejemplos donde no hay supervisión y seleccionar 300 aleatoriamente\n",
    "oversight = merged_data.filter(lambda x: x['oversight'])#.to_pandas()\n",
    "oversight = oversight.shuffle(seed=42).select(range(min(300, len(oversight))))\n",
    "\n",
    "# Concatenar ambos subconjuntos\n",
    "all_scenaries = concatenate_datasets([no_oversight, oversight])\n",
    "all_scenaries = all_scenaries.shuffle(seed=42)\n",
    "all_scenaries.save_to_disk(f'./workspace/scenaries/saint_money_maximizer_genie_reward_maximizer_train_1')"
   ]
  },
  {
   "cell_type": "markdown",
   "id": "20833190",
   "metadata": {},
   "source": [
    "### saint_money_maximizer_genie_reward_maximizer_train_2"
   ]
  },
  {
   "cell_type": "code",
   "execution_count": 12,
   "id": "1e84b1f6",
   "metadata": {},
   "outputs": [
    {
     "data": {
      "application/vnd.jupyter.widget-view+json": {
       "model_id": "d3ee0b1df21b48ce9ad831cc3b2b21cb",
       "version_major": 2,
       "version_minor": 0
      },
      "text/plain": [
       "Filter:   0%|          | 0/2968 [00:00<?, ? examples/s]"
      ]
     },
     "metadata": {},
     "output_type": "display_data"
    },
    {
     "data": {
      "application/vnd.jupyter.widget-view+json": {
       "model_id": "0ab91c80ace24320bfe3bb41754c72e6",
       "version_major": 2,
       "version_minor": 0
      },
      "text/plain": [
       "Filter:   0%|          | 0/2968 [00:00<?, ? examples/s]"
      ]
     },
     "metadata": {},
     "output_type": "display_data"
    },
    {
     "data": {
      "application/vnd.jupyter.widget-view+json": {
       "model_id": "37455ae3391442d9ad13db2c62eb44b7",
       "version_major": 2,
       "version_minor": 0
      },
      "text/plain": [
       "Saving the dataset (0/1 shards):   0%|          | 0/600 [00:00<?, ? examples/s]"
      ]
     },
     "metadata": {},
     "output_type": "display_data"
    }
   ],
   "source": [
    "id = '2'\n",
    "\n",
    "dataset_name = 'saint'\n",
    "saint_dataset = read_dataset(dataset_name, id)\n",
    "\n",
    "dataset_name = 'money_maximizer'\n",
    "money_maximizer_dataset = read_dataset(dataset_name, id)\n",
    "\n",
    "dataset_name = 'reward_maximizer'\n",
    "reward_maximizer_dataset = read_dataset(dataset_name, id)\n",
    "\n",
    "dataset_name = 'genie'\n",
    "genie_dataset = read_dataset(dataset_name, id)\n",
    "\n",
    "merged_data = concatenate_datasets([money_maximizer_dataset, saint_dataset, genie_dataset, reward_maximizer_dataset])\n",
    "\n",
    "# Filtrar ejemplos donde hay supervisión y seelccionar 300 aleatoriamente\n",
    "no_oversight = merged_data.filter(lambda x: not x['oversight'])\n",
    "no_oversight = no_oversight.shuffle(seed=42).select(range(min(300, len(no_oversight))))\n",
    "\n",
    "# Filtrar ejemplos donde no hay supervisión y seleccionar 300 aleatoriamente\n",
    "oversight = merged_data.filter(lambda x: x['oversight'])#.to_pandas()\n",
    "oversight = oversight.shuffle(seed=42).select(range(min(300, len(oversight))))\n",
    "\n",
    "# Concatenar ambos subconjuntos\n",
    "all_scenaries = concatenate_datasets([no_oversight, oversight])\n",
    "all_scenaries = all_scenaries.shuffle(seed=42)\n",
    "all_scenaries.save_to_disk(f'./workspace/scenaries/saint_money_maximizer_genie_reward_maximizer_train_2')"
   ]
  },
  {
   "cell_type": "markdown",
   "id": "e9cd73e5",
   "metadata": {},
   "source": [
    "### saint_money_maximizer_genie_reward_maximizer_train_3"
   ]
  },
  {
   "cell_type": "code",
   "execution_count": 13,
   "id": "7bbb378c",
   "metadata": {},
   "outputs": [
    {
     "data": {
      "application/vnd.jupyter.widget-view+json": {
       "model_id": "bc3b21094d954522bf0458703eba7f58",
       "version_major": 2,
       "version_minor": 0
      },
      "text/plain": [
       "Filter:   0%|          | 0/2945 [00:00<?, ? examples/s]"
      ]
     },
     "metadata": {},
     "output_type": "display_data"
    },
    {
     "data": {
      "application/vnd.jupyter.widget-view+json": {
       "model_id": "1d512c9e1ef34e7884b3b231cff66b02",
       "version_major": 2,
       "version_minor": 0
      },
      "text/plain": [
       "Filter:   0%|          | 0/2945 [00:00<?, ? examples/s]"
      ]
     },
     "metadata": {},
     "output_type": "display_data"
    },
    {
     "data": {
      "application/vnd.jupyter.widget-view+json": {
       "model_id": "fca9f9548c1541b79c1b5c5254345b5e",
       "version_major": 2,
       "version_minor": 0
      },
      "text/plain": [
       "Saving the dataset (0/1 shards):   0%|          | 0/600 [00:00<?, ? examples/s]"
      ]
     },
     "metadata": {},
     "output_type": "display_data"
    }
   ],
   "source": [
    "id = '3'\n",
    "\n",
    "dataset_name = 'saint'\n",
    "saint_dataset = read_dataset(dataset_name, id)\n",
    "\n",
    "dataset_name = 'money_maximizer'\n",
    "money_maximizer_dataset = read_dataset(dataset_name, id)\n",
    "\n",
    "dataset_name = 'reward_maximizer'\n",
    "reward_maximizer_dataset = read_dataset(dataset_name, id)\n",
    "\n",
    "dataset_name = 'genie'\n",
    "genie_dataset = read_dataset(dataset_name, id)\n",
    "\n",
    "merged_data = concatenate_datasets([money_maximizer_dataset, saint_dataset, genie_dataset, reward_maximizer_dataset])\n",
    "\n",
    "# Filtrar ejemplos donde hay supervisión y seelccionar 300 aleatoriamente\n",
    "no_oversight = merged_data.filter(lambda x: not x['oversight'])\n",
    "no_oversight = no_oversight.shuffle(seed=42).select(range(min(300, len(no_oversight))))\n",
    "\n",
    "# Filtrar ejemplos donde no hay supervisión y seleccionar 300 aleatoriamente\n",
    "oversight = merged_data.filter(lambda x: x['oversight'])#.to_pandas()\n",
    "oversight = oversight.shuffle(seed=42).select(range(min(300, len(oversight))))\n",
    "\n",
    "# Concatenar ambos subconjuntos\n",
    "all_scenaries = concatenate_datasets([no_oversight, oversight])\n",
    "all_scenaries = all_scenaries.shuffle(seed=42)\n",
    "all_scenaries.save_to_disk(f'./workspace/scenaries/saint_money_maximizer_genie_reward_maximizer_train_3')"
   ]
  },
  {
   "cell_type": "markdown",
   "id": "826e6f0a",
   "metadata": {},
   "source": [
    "### saint_money_maximizer_genie_reward_maximizer_train_3"
   ]
  },
  {
   "cell_type": "code",
   "execution_count": 3,
   "id": "d0279f32",
   "metadata": {},
   "outputs": [
    {
     "data": {
      "application/vnd.jupyter.widget-view+json": {
       "model_id": "14df60786a0e4c5e8137544923667d56",
       "version_major": 2,
       "version_minor": 0
      },
      "text/plain": [
       "Filter:   0%|          | 0/2937 [00:00<?, ? examples/s]"
      ]
     },
     "metadata": {},
     "output_type": "display_data"
    },
    {
     "data": {
      "application/vnd.jupyter.widget-view+json": {
       "model_id": "ee238f3221f34358bcc22c8929d88b53",
       "version_major": 2,
       "version_minor": 0
      },
      "text/plain": [
       "Filter:   0%|          | 0/2937 [00:00<?, ? examples/s]"
      ]
     },
     "metadata": {},
     "output_type": "display_data"
    },
    {
     "data": {
      "application/vnd.jupyter.widget-view+json": {
       "model_id": "bc154f01ede44754a1db839fdbe5477b",
       "version_major": 2,
       "version_minor": 0
      },
      "text/plain": [
       "Saving the dataset (0/1 shards):   0%|          | 0/600 [00:00<?, ? examples/s]"
      ]
     },
     "metadata": {},
     "output_type": "display_data"
    }
   ],
   "source": [
    "id = '4'\n",
    "\n",
    "dataset_name = 'saint'\n",
    "saint_dataset = read_dataset(dataset_name, id)\n",
    "\n",
    "dataset_name = 'money_maximizer'\n",
    "money_maximizer_dataset = read_dataset(dataset_name, id)\n",
    "\n",
    "dataset_name = 'reward_maximizer'\n",
    "reward_maximizer_dataset = read_dataset(dataset_name, id)\n",
    "\n",
    "dataset_name = 'genie'\n",
    "genie_dataset = read_dataset(dataset_name, id)\n",
    "\n",
    "merged_data = concatenate_datasets([money_maximizer_dataset, saint_dataset, genie_dataset, reward_maximizer_dataset])\n",
    "\n",
    "# Filtrar ejemplos donde hay supervisión y seelccionar 300 aleatoriamente\n",
    "no_oversight = merged_data.filter(lambda x: not x['oversight'])\n",
    "no_oversight = no_oversight.shuffle(seed=42).select(range(min(300, len(no_oversight))))\n",
    "\n",
    "# Filtrar ejemplos donde no hay supervisión y seleccionar 300 aleatoriamente\n",
    "oversight = merged_data.filter(lambda x: x['oversight'])#.to_pandas()\n",
    "oversight = oversight.shuffle(seed=42).select(range(min(300, len(oversight))))\n",
    "\n",
    "# Concatenar ambos subconjuntos\n",
    "all_scenaries = concatenate_datasets([no_oversight, oversight])\n",
    "all_scenaries = all_scenaries.shuffle(seed=42)\n",
    "all_scenaries.save_to_disk(f'./workspace/scenaries/saint_money_maximizer_genie_reward_maximizer_train_4')"
   ]
  }
 ],
 "metadata": {
  "kernelspec": {
   "display_name": "Python 3 (ipykernel)",
   "language": "python",
   "name": "python3"
  },
  "language_info": {
   "codemirror_mode": {
    "name": "ipython",
    "version": 3
   },
   "file_extension": ".py",
   "mimetype": "text/x-python",
   "name": "python",
   "nbconvert_exporter": "python",
   "pygments_lexer": "ipython3",
   "version": "3.11.11"
  }
 },
 "nbformat": 4,
 "nbformat_minor": 5
}
