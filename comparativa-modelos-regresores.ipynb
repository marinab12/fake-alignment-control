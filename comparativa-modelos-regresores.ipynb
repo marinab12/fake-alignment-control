{
 "cells": [
  {
   "cell_type": "markdown",
   "id": "0cab19af",
   "metadata": {},
   "source": [
    "En este notebook se comparan distintos modelos de regresión para predecir activaciones alineadas de la última capa de un modelo de lenguaje a partir de activaciones “faker” (no alineadas).<br>\n",
    "Se realizan 3 splits distintos del dataset (60% train, 20% val, 20% test).<br>\n",
    "- Para cada modelo y split se calculan RMSE y R² en validación y test.\n",
    "- Se computa la media y desviación estándar de cada métrica para evaluar estabilidad y robustez."
   ]
  },
  {
   "cell_type": "markdown",
   "id": "607c0253",
   "metadata": {},
   "source": [
    "### Cargar librerías"
   ]
  },
  {
   "cell_type": "code",
   "execution_count": 1,
   "id": "7e91dae9",
   "metadata": {},
   "outputs": [],
   "source": [
    "import torch\n",
    "from torch.utils.data import random_split\n",
    "import numpy as np\n",
    "import pandas as pd\n",
    "from sklearn.linear_model import LinearRegression, Lasso, Ridge\n",
    "from sklearn.neighbors import KNeighborsRegressor\n",
    "from sklearn.ensemble import RandomForestRegressor\n",
    "from sklearn.svm import SVR\n",
    "from sklearn.metrics import r2_score"
   ]
  },
  {
   "cell_type": "markdown",
   "id": "e32648ac",
   "metadata": {},
   "source": [
    "### Cargar dataset"
   ]
  },
  {
   "cell_type": "code",
   "execution_count": 2,
   "id": "586343a3",
   "metadata": {},
   "outputs": [
    {
     "name": "stdout",
     "output_type": "stream",
     "text": [
      "Dataset cargado. Número de tokens: 110582\n"
     ]
    }
   ],
   "source": [
    "dataset = torch.load('./workspace/dataset_to_train_regressor_60_percent_neurons.pt', weights_only=False)\n",
    "print(f\"Dataset cargado. Número de tokens: {len(dataset)}\")"
   ]
  },
  {
   "cell_type": "markdown",
   "id": "2229df88",
   "metadata": {},
   "source": [
    "Análisis de diferencia máxima y mínima entre activaciones en conjuntos de validación y test:"
   ]
  },
  {
   "cell_type": "code",
   "execution_count": 3,
   "id": "1ac7174a",
   "metadata": {},
   "outputs": [
    {
     "name": "stdout",
     "output_type": "stream",
     "text": [
      "Diferencia mínima entre activaciones alineadas y faker: -27.546875\n",
      "Diferencia máxima entre activaciones alineadas y faker: 27.062500\n"
     ]
    }
   ],
   "source": [
    "X_dataset = [x for x, y, z in dataset]\n",
    "Y_dataset = [y for x, y, z in dataset]\n",
    "\n",
    "X_test_all = torch.cat(X_dataset, dim=0)\n",
    "Y_test_all = torch.cat(Y_dataset, dim=0)\n",
    "\n",
    "diff = X_test_all - Y_test_all\n",
    "\n",
    "# Valores mínimo y máximo\n",
    "diff_min = diff.min().item()\n",
    "diff_max = diff.max().item()\n",
    "\n",
    "print(f\"Diferencia mínima entre activaciones alineadas y faker: {diff_min:.6f}\")\n",
    "print(f\"Diferencia máxima entre activaciones alineadas y faker: {diff_max:.6f}\")"
   ]
  },
  {
   "cell_type": "markdown",
   "id": "bb5c8fa2",
   "metadata": {},
   "source": [
    "### Cargar el modelo MLP pre-entrenado\n"
   ]
  },
  {
   "cell_type": "code",
   "execution_count": 4,
   "id": "4d917179",
   "metadata": {},
   "outputs": [],
   "source": [
    "import torch\n",
    "import torch.nn as nn\n",
    "\n",
    "# Definir la misma arquitectura del MLP\n",
    "class SelectedNeuronsMLP(nn.Module):\n",
    "    def __init__(self, n_neurons):\n",
    "        super().__init__()\n",
    "        self.net = nn.Sequential(\n",
    "            nn.Linear(n_neurons, n_neurons),\n",
    "            nn.ReLU(),\n",
    "            nn.Linear(n_neurons, n_neurons)\n",
    "        )\n",
    "    def forward(self, x):\n",
    "        return self.net(x)\n",
    "\n",
    "selected_neurons = \"./workspace/selected_neurons_last_layer_p60_dict.pt\"\n",
    "selected_neurons = torch.load(selected_neurons, weights_only=False)\n",
    "\n",
    "# Número de neuronas seleccionadas\n",
    "n_neurons = len(selected_neurons)\n",
    "\n",
    "# Crear el modelo e importar pesos\n",
    "model_mlp = SelectedNeuronsMLP(n_neurons)\n",
    "model_mlp.load_state_dict(torch.load(\"./workspace/mlp.pt\", map_location=\"cuda\"))\n",
    "model_mlp.to(\"cuda\")\n",
    "model_mlp = model_mlp.half()"
   ]
  },
  {
   "cell_type": "markdown",
   "id": "2102569a",
   "metadata": {},
   "source": [
    "### Función para evaluar un modelo"
   ]
  },
  {
   "cell_type": "code",
   "execution_count": 5,
   "id": "2aac3318",
   "metadata": {},
   "outputs": [],
   "source": [
    "def compute_metrics(Y_true, Y_pred):\n",
    "    Y_true = np.array(Y_true, dtype=np.float32)\n",
    "    Y_pred = np.array(Y_pred, dtype=np.float32)\n",
    "    rmse = np.sqrt(((Y_true - Y_pred) ** 2).mean())\n",
    "    r2   = r2_score(Y_true, Y_pred)\n",
    "    return rmse, r2"
   ]
  },
  {
   "cell_type": "markdown",
   "id": "07c88763",
   "metadata": {},
   "source": [
    "### Inferencia y evaluación de modelos\n",
    "1. Baseline: diferencia media entre faker y aligned (punto de partida).\n",
    "\n",
    "2. Linear Regression: modelo lineal clásico sin regularización.\n",
    "\n",
    "3. Lasso Regression: modelo lineal regularizado con penalización L1. --> Entrenamiento costoso\n",
    "\n",
    "4. Ridge Regression: modelo lineal regularizado con penalización L2.\n",
    "\n",
    "5. MLP (PyTorch): red neuronal feedforward entrenada token-a-token.\n",
    "\n",
    "6. KNN Regressor: modelo simple basado en vecinos más cercanos.\n",
    "\n",
    "7. SVR (Support Vector Regression): modelo no lineal que utiliza el margen de tolerancia para aproximar funciones complejas. --> Entrenamiento costoso\n",
    "\n",
    "8. Random Forest Regressor: modelo no lineal, basado en árboles. --> Entrenamiento costoso"
   ]
  },
  {
   "cell_type": "code",
   "execution_count": null,
   "id": "1a32325b",
   "metadata": {},
   "outputs": [],
   "source": [
    "def run_split(dataset, seed):\n",
    "    torch.manual_seed(seed)\n",
    "\n",
    "    total_len = len(dataset)\n",
    "    train_len = int(0.6 * total_len)\n",
    "    val_len   = int(0.2 * total_len)\n",
    "    test_len  = total_len - train_len - val_len\n",
    "\n",
    "    train_set, val_set, test_set = random_split(dataset, [train_len, val_len, test_len])\n",
    "\n",
    "    X_train, Y_train, z_train = [x.cpu().numpy() for x, y, z in train_set], [y.cpu().numpy() for x, y, z in train_set], [z.cpu().numpy() for x, y, z in train_set]\n",
    "    X_val,   Y_val,   z_val   = [x.cpu().numpy() for x, y, z in val_set],   [y.cpu().numpy() for x, y, z in val_set],   [z.cpu().numpy() for x, y, z in val_set]\n",
    "    X_test,  Y_test,  z_test  = [x.cpu().numpy() for x, y, z in test_set],  [y.cpu().numpy() for x, y, z in test_set],  [z.cpu().numpy() for x, y, z in test_set]\n",
    "\n",
    "    X_train, Y_train, z_train = np.stack(X_train), np.stack(Y_train), np.stack(z_train)\n",
    "    X_val,   Y_val,   z_val   = np.stack(X_val),   np.stack(Y_val),   np.stack(z_val)\n",
    "    X_test,  Y_test,  z_test  = np.stack(X_test),  np.stack(Y_test),  np.stack(z_test)\n",
    "\n",
    "    results = {}\n",
    "\n",
    "    print('Baseline')\n",
    "    delta_mean = Y_train.mean(axis=0) - X_train.mean(axis=0)\n",
    "    Y_pred_val = X_val + delta_mean\n",
    "    Y_pred_test = X_test + delta_mean\n",
    "    results[\"Baseline_val\"]  = compute_metrics(Y_val, Y_pred_val)\n",
    "    results[\"Baseline_test\"] = compute_metrics(Y_test, Y_pred_test)\n",
    "\n",
    "    print('Linear Regression')\n",
    "    lr = LinearRegression()\n",
    "    lr.fit(X_train.astype(np.float64), Y_train.astype(np.float64))\n",
    "    results[\"Linear_val\"]  = compute_metrics(Y_val, lr.predict(X_val))\n",
    "    results[\"Linear_test\"] = compute_metrics(Y_test, lr.predict(X_test))\n",
    "\n",
    "    # print('Lasso')\n",
    "    # lasso = Lasso(alpha=0.01)\n",
    "    # lasso.fit(X_train, Y_train)\n",
    "    # results[\"Lasso_val\"]  = compute_metrics(Y_val, lasso.predict(X_val))\n",
    "    # results[\"Lasso_test\"] = compute_metrics(Y_test, lasso.predict(X_test))\n",
    "\n",
    "    print('Ridge')\n",
    "    ridge = Ridge(alpha=1.0)\n",
    "    ridge.fit(X_train.astype(np.float64), Y_train.astype(np.float64))\n",
    "    results[\"Ridge_val\"]  = compute_metrics(Y_val, ridge.predict(X_val))\n",
    "    results[\"Ridge_test\"] = compute_metrics(Y_test, ridge.predict(X_test))\n",
    "\n",
    "    print('MLP')\n",
    "    model_mlp.eval()\n",
    "    with torch.no_grad():\n",
    "        X_val_tensor  = torch.tensor(X_val).cuda()\n",
    "        X_test_tensor = torch.tensor(X_test).cuda()\n",
    "\n",
    "        Y_pred_val = model_mlp(X_val_tensor).cpu().numpy()\n",
    "        Y_pred_test = model_mlp(X_test_tensor).cpu().numpy()\n",
    "    results[\"MLP_val\"]  = compute_metrics(Y_val, Y_pred_val)\n",
    "    results[\"MLP_test\"] = compute_metrics(Y_test, Y_pred_test)\n",
    "\n",
    "    print('KNN')\n",
    "    knn = KNeighborsRegressor(n_neighbors=5, n_jobs=-1)\n",
    "    knn.fit(X_train, Y_train)\n",
    "    results[\"KNN_val\"]  = compute_metrics(Y_val, knn.predict(X_val))\n",
    "    results[\"KNN_test\"] = compute_metrics(Y_test, knn.predict(X_test))\n",
    "\n",
    "    # print('SVR')\n",
    "    # svr_preds_val = []\n",
    "    # svr_preds_test = []\n",
    "    # for i in range(Y_train.shape[1]):\n",
    "    #     svr = SVR()\n",
    "    #     svr.fit(X_train, Y_train[:, i])\n",
    "    #     svr_preds_val.append(svr.predict(X_val))\n",
    "    #     svr_preds_test.append(svr.predict(X_test))\n",
    "    # results[\"SVR_val\"]  = compute_metrics(Y_val, np.stack(svr_preds_val, axis=1))\n",
    "    # results[\"SVR_test\"] = compute_metrics(Y_test, np.stack(svr_preds_test, axis=1))\n",
    "    \n",
    "    # print('RandomForestRegressor')\n",
    "    # rf = RandomForestRegressor(n_estimators=200, n_jobs=-1, max_depth=20)\n",
    "    # rf.fit(X_train, Y_train)\n",
    "    # results[\"RF_val\"]  = compute_metrics(Y_val, rf.predict(X_val))\n",
    "    # results[\"RF_test\"] = compute_metrics(Y_test, rf.predict(X_test))\n",
    "\n",
    "    return results"
   ]
  },
  {
   "cell_type": "markdown",
   "id": "dc785cdc",
   "metadata": {},
   "source": [
    "### Evaluación de modelos sobre 3 splits aleatorios del dataset"
   ]
  },
  {
   "cell_type": "code",
   "execution_count": 9,
   "id": "5ec926aa",
   "metadata": {},
   "outputs": [
    {
     "name": "stdout",
     "output_type": "stream",
     "text": [
      "                   RMSE                  R2          \n",
      "                   mean       std      mean       std\n",
      "Model                                                \n",
      "Baseline_test  1.216578  0.001770  0.388214  0.002061\n",
      "Baseline_val   1.217241  0.002021  0.387882  0.002559\n",
      "KNN_test       0.771423  0.001035  0.754176  0.000622\n",
      "KNN_val        0.770614  0.000430  0.754867  0.000124\n",
      "Linear_test    0.672544  0.000780  0.813672  0.000472\n",
      "Linear_val     0.673367  0.000364  0.813367  0.000044\n",
      "MLP_test       0.685505  0.000411  0.800253  0.000224\n",
      "MLP_val        0.686830  0.001199  0.799665  0.000506\n",
      "Ridge_test     0.672543  0.000780  0.813673  0.000472\n",
      "Ridge_val      0.673366  0.000364  0.813368  0.000044\n"
     ]
    }
   ],
   "source": [
    "all_results = []\n",
    "for seed in [0, 54, 223]:\n",
    "    print(f\"Running split with seed {seed}\")\n",
    "    all_results.append(run_split(dataset, seed))\n",
    "\n",
    "# Convertir resultados a DataFrame para análisis\n",
    "rows = []\n",
    "for res in all_results:\n",
    "    for model_key, metrics in res.items():  # metrics es una tupla (RMSE, R2)\n",
    "        rmse, r2 = metrics\n",
    "        rows.append({\n",
    "            \"Model\": model_key,\n",
    "            \"RMSE\": rmse,\n",
    "            \"R2\": r2\n",
    "        })\n",
    "\n",
    "df = pd.DataFrame(rows)\n",
    "\n",
    "# Media y desviación por modelo\n",
    "summary = df.groupby(\"Model\").agg([\"mean\", \"std\"])\n",
    "print(summary)"
   ]
  },
  {
   "cell_type": "markdown",
   "id": "eb5ab3a6",
   "metadata": {},
   "source": [
    "### Visualización de resultados"
   ]
  },
  {
   "cell_type": "code",
   "execution_count": 11,
   "id": "e0035466",
   "metadata": {},
   "outputs": [
    {
     "data": {
      "image/png": "[encoded data removed]",
      "text/plain": [
       "<Figure size 1400x1000 with 4 Axes>"
      ]
     },
     "metadata": {},
     "output_type": "display_data"
    }
   ],
   "source": [
    "import matplotlib.pyplot as plt\n",
    "import numpy as np\n",
    "\n",
    "# Función para añadir valores encima de las barras\n",
    "def add_values(ax, values, errors):\n",
    "    for i, (v, e) in enumerate(zip(values, errors)):\n",
    "        ax.text(i, v + e + 0.01*abs(v), f\"{v:.3f}±{e:.3f}\", ha='center', va='bottom', fontsize=9)\n",
    "\n",
    "models = sorted(set(idx.replace('_val','').replace('_test','') for idx in summary.index))\n",
    "# ------------------------\n",
    "# Ordenar modelos según R² validación\n",
    "# ------------------------\n",
    "r2_val = summary.loc[[m+'_val' for m in models], ('R2','mean')]\n",
    "r2_val_std = summary.loc[[m+'_val' for m in models], ('R2','std')]\n",
    "models_sorted = r2_val.sort_values(ascending=False).index.str.replace('_val','').tolist()\n",
    "\n",
    "# Crear subplots\n",
    "fig, axes = plt.subplots(2,2, figsize=(14,10))\n",
    "plt.subplots_adjust(hspace=0.3, wspace=0.3)\n",
    "x = np.arange(len(models_sorted))\n",
    "\n",
    "# R² - Validación\n",
    "r2_vals_sorted = r2_val[[m+'_val' for m in models_sorted]]\n",
    "r2_stds_sorted = r2_val_std[[m+'_val' for m in models_sorted]]\n",
    "axes[0,0].bar(x, r2_vals_sorted, yerr=r2_stds_sorted, capsize=5, color='lightgreen')\n",
    "axes[0,0].set_xticks(x)\n",
    "axes[0,0].set_xticklabels(models_sorted, rotation=45, ha='right')\n",
    "axes[0,0].set_title('R² - Validación')\n",
    "axes[0,0].set_ylabel('R²')\n",
    "add_values(axes[0,0], r2_vals_sorted, r2_stds_sorted)\n",
    "\n",
    "# R² - Test (mismos modelos ordenados por R² validación)\n",
    "r2_test = summary.loc[[m+'_test' for m in models_sorted], ('R2','mean')]\n",
    "r2_test_std = summary.loc[[m+'_test' for m in models_sorted], ('R2','std')]\n",
    "axes[0,1].bar(x, r2_test, yerr=r2_test_std, capsize=5, color='orchid')\n",
    "axes[0,1].set_xticks(x)\n",
    "axes[0,1].set_xticklabels(models_sorted, rotation=45, ha='right')\n",
    "axes[0,1].set_title('R² - Test')\n",
    "axes[0,1].set_ylabel('R²')\n",
    "add_values(axes[0,1], r2_test, r2_test_std)\n",
    "\n",
    "# RMSE - Validación (mismos modelos)\n",
    "rmse_val = summary.loc[[m+'_val' for m in models_sorted], ('RMSE','mean')]\n",
    "rmse_val_std = summary.loc[[m+'_val' for m in models_sorted], ('RMSE','std')]\n",
    "axes[1,0].bar(x, rmse_val, yerr=rmse_val_std, capsize=5, color='skyblue')\n",
    "axes[1,0].set_xticks(x)\n",
    "axes[1,0].set_xticklabels(models_sorted, rotation=45, ha='right')\n",
    "axes[1,0].set_title('RMSE - Validación')\n",
    "axes[1,0].set_ylabel('RMSE')\n",
    "add_values(axes[1,0], rmse_val, rmse_val_std)\n",
    "\n",
    "# RMSE - Test\n",
    "rmse_test = summary.loc[[m+'_test' for m in models_sorted], ('RMSE','mean')]\n",
    "rmse_test_std = summary.loc[[m+'_test' for m in models_sorted], ('RMSE','std')]\n",
    "axes[1,1].bar(x, rmse_test, yerr=rmse_test_std, capsize=5, color='salmon')\n",
    "axes[1,1].set_xticks(x)\n",
    "axes[1,1].set_xticklabels(models_sorted, rotation=45, ha='right')\n",
    "axes[1,1].set_title('RMSE - Test')\n",
    "axes[1,1].set_ylabel('RMSE')\n",
    "add_values(axes[1,1], rmse_test, rmse_test_std)\n",
    "\n",
    "plt.show()"
   ]
  },
  {
   "cell_type": "markdown",
   "id": "6b06ef74",
   "metadata": {},
   "source": [
    "### Exportar modelos"
   ]
  },
  {
   "cell_type": "code",
   "execution_count": 3,
   "id": "41fcdcc6",
   "metadata": {},
   "outputs": [],
   "source": [
    "import joblib\n",
    "\n",
    "torch.manual_seed(0)\n",
    "\n",
    "total_len = len(dataset)\n",
    "train_len = int(0.6 * total_len)\n",
    "val_len   = int(0.2 * total_len)\n",
    "test_len  = total_len - train_len - val_len\n",
    "\n",
    "train_set, val_set, test_set = random_split(dataset, [train_len, val_len, test_len])\n",
    "\n",
    "X_train, Y_train = [x.cpu().numpy() for x, y,z in train_set], [y.cpu().numpy() for x, y,z in train_set]\n",
    "X_val,   Y_val   = [x.cpu().numpy() for x, y,z in val_set],   [y.cpu().numpy() for x, y,z in val_set]\n",
    "X_test,  Y_test  = [x.cpu().numpy() for x, y,z in test_set],  [y.cpu().numpy() for x, y,z in test_set]\n",
    "\n",
    "X_train, Y_train = np.stack(X_train), np.stack(Y_train)\n",
    "X_val,   Y_val   = np.stack(X_val),   np.stack(Y_val)\n",
    "X_test,  Y_test  = np.stack(X_test),  np.stack(Y_test)"
   ]
  },
  {
   "cell_type": "code",
   "execution_count": 4,
   "id": "c5536a25",
   "metadata": {},
   "outputs": [
    {
     "name": "stdout",
     "output_type": "stream",
     "text": [
      "Modelo guardado en ./workspace/models/linear_model.pkl\n"
     ]
    }
   ],
   "source": [
    "# Regresión Lineal\n",
    "linear_model = LinearRegression()\n",
    "linear_model.fit(X_train.astype(np.float64), Y_train.astype(np.float64))\n",
    "joblib.dump(linear_model, \"./workspace/models/linear_model.pkl\")\n",
    "print(\"Modelo guardado en ./workspace/models/linear_model.pkl\")"
   ]
  },
  {
   "cell_type": "code",
   "execution_count": 5,
   "id": "3a1a6893",
   "metadata": {},
   "outputs": [
    {
     "name": "stdout",
     "output_type": "stream",
     "text": [
      "Modelo guardado en ./workspace/models/ridge_model.pkl\n"
     ]
    }
   ],
   "source": [
    "# Ridge\n",
    "ridge_model = Ridge(alpha=1.0)\n",
    "ridge_model.fit(X_train.astype(np.float64), Y_train.astype(np.float64))\n",
    "joblib.dump(ridge_model, \"./workspace/models/ridge_model.pkl\")\n",
    "print(\"Modelo guardado en ./workspace/models/ridge_model.pkl\")"
   ]
  },
  {
   "cell_type": "code",
   "execution_count": 6,
   "id": "5d26f357",
   "metadata": {},
   "outputs": [
    {
     "name": "stdout",
     "output_type": "stream",
     "text": [
      "Modelo guardado en ./workspace/models/knn_model.pkl\n"
     ]
    }
   ],
   "source": [
    "# KNN\n",
    "knn_model = KNeighborsRegressor(n_neighbors=5, n_jobs=-1)\n",
    "knn_model.fit(X_train, Y_train)\n",
    "joblib.dump(knn_model, \"./workspace/models/knn_model.pkl\")\n",
    "print(\"Modelo guardado en ./workspace/models/knn_model.pkl\")"
   ]
  }
 ],
 "metadata": {
  "kernelspec": {
   "display_name": "Python 3 (ipykernel)",
   "language": "python",
   "name": "python3"
  }
 },
 "nbformat": 4,
 "nbformat_minor": 5
}
